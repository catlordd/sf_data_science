{
 "cells": [
  {
   "cell_type": "markdown",
   "metadata": {},
   "source": [
    "Напишите класс сборщика технических сообщений OwnLogger.\n",
    "\n",
    "У него должен быть\n",
    "\n",
    "атрибут logs, содержащий {\"info\": None, \"warning\": None, \"error\": None, \"all\": None}.\n",
    "метод log(message, level), который записывает сообщения. Здесь сообщение message может быть любым, а level — один из \"info\", \"warning\", \"error\".\n",
    "метод show_last(level), где level может быть \"info\", \"warning\", \"error\", \"all\".\n",
    "Для \"all\" он просто возвращает последнее добавленное сообщение, а для остальных — последнее поступившее сообщение соответствующего уровня. При этом по умолчанию значение именно \"all\".\n",
    "\n",
    "Если подходящего сообщения нет, возвращает None."
   ]
  },
  {
   "cell_type": "code",
   "execution_count": null,
   "metadata": {},
   "outputs": [],
   "source": []
  }
 ],
 "metadata": {
  "language_info": {
   "name": "python"
  },
  "orig_nbformat": 4
 },
 "nbformat": 4,
 "nbformat_minor": 2
}
