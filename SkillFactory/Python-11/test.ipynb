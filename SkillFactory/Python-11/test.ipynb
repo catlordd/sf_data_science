{
 "cells": [
  {
   "cell_type": "code",
   "execution_count": 32,
   "metadata": {},
   "outputs": [
    {
     "name": "stdout",
     "output_type": "stream",
     "text": [
      "<class 'pandas.core.frame.DataFrame'>\n",
      "RangeIndex: 13580 entries, 0 to 13579\n",
      "Data columns (total 24 columns):\n",
      " #   Column           Non-Null Count  Dtype  \n",
      "---  ------           --------------  -----  \n",
      " 0   Suburb           13580 non-null  object \n",
      " 1   Address          13580 non-null  object \n",
      " 2   Rooms            13580 non-null  int64  \n",
      " 3   Type             13580 non-null  object \n",
      " 4   Price            13580 non-null  float64\n",
      " 5   Method           13580 non-null  object \n",
      " 6   SellerG          13580 non-null  object \n",
      " 7   Date             13580 non-null  object \n",
      " 8   Distance         13580 non-null  float64\n",
      " 9   Postcode         13580 non-null  int64  \n",
      " 10  Bedroom          13580 non-null  int64  \n",
      " 11  Bathroom         13580 non-null  int64  \n",
      " 12  Car              13580 non-null  int64  \n",
      " 13  Landsize         13580 non-null  float64\n",
      " 14  BuildingArea     13580 non-null  float64\n",
      " 15  YearBuilt        13580 non-null  int64  \n",
      " 16  CouncilArea      12211 non-null  object \n",
      " 17  Lattitude        13580 non-null  float64\n",
      " 18  Longtitude       13580 non-null  float64\n",
      " 19  Regionname       13580 non-null  object \n",
      " 20  Propertycount    13580 non-null  int64  \n",
      " 21  MeanRoomsSquare  13580 non-null  float64\n",
      " 22  WeekdaySale      13580 non-null  int64  \n",
      " 23  Weekend          13580 non-null  int64  \n",
      "dtypes: float64(7), int64(9), object(8)\n",
      "memory usage: 2.5+ MB\n"
     ]
    },
    {
     "data": {
      "text/plain": [
       "None"
      ]
     },
     "metadata": {},
     "output_type": "display_data"
    },
    {
     "name": "stdout",
     "output_type": "stream",
     "text": [
      "<class 'pandas.core.frame.DataFrame'>\n",
      "RangeIndex: 13580 entries, 0 to 13579\n",
      "Data columns (total 24 columns):\n",
      " #   Column           Non-Null Count  Dtype   \n",
      "---  ------           --------------  -----   \n",
      " 0   Suburb           13580 non-null  category\n",
      " 1   Address          13580 non-null  object  \n",
      " 2   Rooms            13580 non-null  int64   \n",
      " 3   Type             13580 non-null  object  \n",
      " 4   Price            13580 non-null  float64 \n",
      " 5   Method           13580 non-null  object  \n",
      " 6   SellerG          13580 non-null  object  \n",
      " 7   Date             13580 non-null  object  \n",
      " 8   Distance         13580 non-null  float64 \n",
      " 9   Postcode         13580 non-null  int64   \n",
      " 10  Bedroom          13580 non-null  int64   \n",
      " 11  Bathroom         13580 non-null  int64   \n",
      " 12  Car              13580 non-null  int64   \n",
      " 13  Landsize         13580 non-null  float64 \n",
      " 14  BuildingArea     13580 non-null  float64 \n",
      " 15  YearBuilt        13580 non-null  int64   \n",
      " 16  CouncilArea      12211 non-null  object  \n",
      " 17  Lattitude        13580 non-null  float64 \n",
      " 18  Longtitude       13580 non-null  float64 \n",
      " 19  Regionname       13580 non-null  object  \n",
      " 20  Propertycount    13580 non-null  int64   \n",
      " 21  MeanRoomsSquare  13580 non-null  float64 \n",
      " 22  WeekdaySale      13580 non-null  int64   \n",
      " 23  Weekend          13580 non-null  int64   \n",
      "dtypes: category(1), float64(7), int64(9), object(7)\n",
      "memory usage: 2.4+ MB\n"
     ]
    },
    {
     "data": {
      "text/plain": [
       "None"
      ]
     },
     "metadata": {},
     "output_type": "display_data"
    }
   ],
   "source": [
    "import pandas as pd\n",
    "import numpy as np\n",
    "\n",
    "melb_data = pd.read_csv('data\\melb_data_ps.csv', sep=',')\n",
    "melb_df = melb_data.copy()\n",
    "melb_df = melb_df.drop(['index', 'Coordinates'], axis=1)\n",
    "total_rooms = melb_df['Rooms'] + melb_df['Bedroom'] + melb_df['Bathroom']\n",
    "melb_df['MeanRoomsSquare'] = melb_df['BuildingArea'] / total_rooms\n",
    "#display(melb_df['MeanRoomsSquare'])\n",
    "\n",
    "# Create new column WeekdaySale\n",
    "# display(melb_df.info())\n",
    "melb_df['WeekdaySale'] = pd.to_datetime(melb_df['Date']).dt.day_of_week\n",
    "\n",
    "melb_df['Weekend'] = melb_df['WeekdaySale'].apply(lambda x: 1 if x>4 else 0)\n",
    "#print(round(melb_df[melb_df['Weekend'] == 1]['Price'].mean()))\n",
    "\n",
    "\n",
    "\n",
    "popular_seller = melb_df['SellerG'].value_counts().nlargest(49).index\n",
    "melb_df['SellerG'] = melb_df['SellerG'].apply(lambda x: x if x in popular_seller else 'other')\n",
    "\n",
    "a = melb_df[melb_df['SellerG'] == 'Nelson']['Price'].min()\n",
    "b = melb_df[melb_df['SellerG'] == 'other']['Price'].min()\n",
    "#print(a/b)\n",
    "\n",
    "display(melb_df.info())\n",
    "\n",
    "list_Suburb = melb_df['Suburb'].value_counts().nlargest(119).index\n",
    "melb_df['Suburb'] = melb_df['Suburb'].apply(lambda x: x if x in list_Suburb else 'other')\n",
    "melb_df['Suburb'] = melb_df['Suburb'].astype('category')\n",
    "\n",
    "display(melb_df.info())"
   ]
  },
  {
   "cell_type": "markdown",
   "metadata": {},
   "source": [
    "def delete_columns(df, col=[]):\n",
    "    df_copy = df.copy()\n",
    "    for column in col:\n",
    "        if column in df_copy:\n",
    "            df_copy.drop(column, axis = 1)\n",
    "        else:\n",
    "            return None\n",
    "    return df_copy"
   ]
  },
  {
   "cell_type": "code",
   "execution_count": null,
   "metadata": {},
   "outputs": [],
   "source": [
    "import pandas as pd\n",
    "\n",
    "def delete_columns(df, col=[]):\n",
    "    col = set(col)\n",
    "    df_copy = df.copy()\n",
    "    for column in col:\n",
    "        if column in df_copy:\n",
    "            df_copy = df_copy.drop(column, axis = 1)\n",
    "        else:\n",
    "            return None\n",
    "    return df_copy\n",
    "\n",
    "customer_df = pd.DataFrame({\n",
    "            'number': [0, 1, 2, 3, 4],\n",
    "            'cust_id': [128, 1201, 9832, 4392, 7472],\n",
    "            'cust_age': [13, 21, 19, 21, 60],\n",
    "            'cust_sale': [0, 0, 0.2, 0.15, 0.3],\n",
    "            'cust_year_birth': [2008, 2000, 2002, 2000, 1961],\n",
    "            'cust_order': [1400, 14142, 900, 1240, 8430]\n",
    "        })\n",
    "\n",
    "s = delete_columns(customer_df,['number', 'cust_id'])\n",
    "print(s)"
   ]
  },
  {
   "cell_type": "code",
   "execution_count": 8,
   "metadata": {},
   "outputs": [
    {
     "data": {
      "text/html": [
       "<div>\n",
       "<style scoped>\n",
       "    .dataframe tbody tr th:only-of-type {\n",
       "        vertical-align: middle;\n",
       "    }\n",
       "\n",
       "    .dataframe tbody tr th {\n",
       "        vertical-align: top;\n",
       "    }\n",
       "\n",
       "    .dataframe thead th {\n",
       "        text-align: right;\n",
       "    }\n",
       "</style>\n",
       "<table border=\"1\" class=\"dataframe\">\n",
       "  <thead>\n",
       "    <tr style=\"text-align: right;\">\n",
       "      <th></th>\n",
       "      <th>country</th>\n",
       "      <th>population</th>\n",
       "      <th>square</th>\n",
       "      <th>relise</th>\n",
       "      <th>density</th>\n",
       "      <th>data</th>\n",
       "    </tr>\n",
       "  </thead>\n",
       "  <tbody>\n",
       "    <tr>\n",
       "      <th>0</th>\n",
       "      <td>Англия</td>\n",
       "      <td>56.29</td>\n",
       "      <td>133396</td>\n",
       "      <td>1332</td>\n",
       "      <td>421.976671</td>\n",
       "      <td>1970-01-01 00:00:00.000001332</td>\n",
       "    </tr>\n",
       "    <tr>\n",
       "      <th>1</th>\n",
       "      <td>Канада</td>\n",
       "      <td>38.05</td>\n",
       "      <td>9984670</td>\n",
       "      <td>1560</td>\n",
       "      <td>3.810842</td>\n",
       "      <td>1970-01-01 00:00:00.000001560</td>\n",
       "    </tr>\n",
       "    <tr>\n",
       "      <th>2</th>\n",
       "      <td>США</td>\n",
       "      <td>322.28</td>\n",
       "      <td>9826630</td>\n",
       "      <td>1644</td>\n",
       "      <td>32.796595</td>\n",
       "      <td>1970-01-01 00:00:00.000001644</td>\n",
       "    </tr>\n",
       "    <tr>\n",
       "      <th>3</th>\n",
       "      <td>Россия</td>\n",
       "      <td>146.24</td>\n",
       "      <td>17125191</td>\n",
       "      <td>1712</td>\n",
       "      <td>8.539467</td>\n",
       "      <td>1970-01-01 00:00:00.000001712</td>\n",
       "    </tr>\n",
       "    <tr>\n",
       "      <th>4</th>\n",
       "      <td>Украина</td>\n",
       "      <td>45.50</td>\n",
       "      <td>603628</td>\n",
       "      <td>6036</td>\n",
       "      <td>75.377550</td>\n",
       "      <td>1970-01-01 00:00:00.000006036</td>\n",
       "    </tr>\n",
       "    <tr>\n",
       "      <th>5</th>\n",
       "      <td>Беларусь</td>\n",
       "      <td>9.50</td>\n",
       "      <td>207600</td>\n",
       "      <td>2076</td>\n",
       "      <td>45.761079</td>\n",
       "      <td>1970-01-01 00:00:00.000002076</td>\n",
       "    </tr>\n",
       "    <tr>\n",
       "      <th>6</th>\n",
       "      <td>Казахстан</td>\n",
       "      <td>17.04</td>\n",
       "      <td>2724902</td>\n",
       "      <td>2724</td>\n",
       "      <td>6.253436</td>\n",
       "      <td>1970-01-01 00:00:00.000002724</td>\n",
       "    </tr>\n",
       "  </tbody>\n",
       "</table>\n",
       "</div>"
      ],
      "text/plain": [
       "     country  population    square  relise     density  \\\n",
       "0     Англия       56.29    133396    1332  421.976671   \n",
       "1     Канада       38.05   9984670    1560    3.810842   \n",
       "2        США      322.28   9826630    1644   32.796595   \n",
       "3     Россия      146.24  17125191    1712    8.539467   \n",
       "4    Украина       45.50    603628    6036   75.377550   \n",
       "5   Беларусь        9.50    207600    2076   45.761079   \n",
       "6  Казахстан       17.04   2724902    2724    6.253436   \n",
       "\n",
       "                           data  \n",
       "0 1970-01-01 00:00:00.000001332  \n",
       "1 1970-01-01 00:00:00.000001560  \n",
       "2 1970-01-01 00:00:00.000001644  \n",
       "3 1970-01-01 00:00:00.000001712  \n",
       "4 1970-01-01 00:00:00.000006036  \n",
       "5 1970-01-01 00:00:00.000002076  \n",
       "6 1970-01-01 00:00:00.000002724  "
      ]
     },
     "metadata": {},
     "output_type": "display_data"
    }
   ],
   "source": [
    "import pandas as pd\n",
    "\n",
    "countries_df = pd.DataFrame({\n",
    "    'country': ['Англия', 'Канада', 'США', 'Россия', 'Украина', 'Беларусь', 'Казахстан'],\n",
    "    'population': [56.29, 38.05, 322.28, 146.24, 45.5, 9.5, 17.04],\n",
    "    'square': [133396, 9984670, 9826630, 17125191, 603628, 207600, 2724902],\n",
    "    'relise': [1332, 1560, 1644, 1712, 6036, 2076, 2724]\n",
    "})\n",
    "\n",
    "countries_df['density'] = countries_df['population'] * 1e6 / countries_df['square']\n",
    "#display(round(countries_df['density'].mean(), 2))\n",
    "\n",
    "countries_df['data'] = pd.to_datetime(countries_df['relise'])\n",
    "display(countries_df)"
   ]
  },
  {
   "cell_type": "markdown",
   "metadata": {},
   "source": [
    "ЗАДАНИЙ 3.4-3.5"
   ]
  },
  {
   "cell_type": "code",
   "execution_count": 20,
   "metadata": {},
   "outputs": [
    {
     "data": {
      "text/plain": [
       "68.44876325088339"
      ]
     },
     "metadata": {},
     "output_type": "display_data"
    }
   ],
   "source": [
    "import pandas as pd\n",
    "\n",
    "ufo_data = pd.read_csv('https://raw.githubusercontent.com/justmarkham/pandas-videos/master/data/ufo.csv', sep=',')\n",
    "ufo_data['Date'] = pd.to_datetime(ufo_data['Time'])\n",
    "\n",
    "year_with_max_count_of_events = ufo_data['Date'].dt.year.mode()\n",
    "#display(year_with_max_count_of_events)\n",
    "\n",
    "diff_lost_events = ufo_data[ufo_data['State'] == 'NV']['Date'].diff().dt.days.mean()\n",
    "\n",
    "display(diff_lost_events)"
   ]
  },
  {
   "cell_type": "markdown",
   "metadata": {},
   "source": [
    "Задание 4.4"
   ]
  },
  {
   "cell_type": "code",
   "execution_count": 27,
   "metadata": {},
   "outputs": [
    {
     "name": "stdout",
     "output_type": "stream",
     "text": [
      "0    60\n",
      "1     5\n",
      "2    13\n",
      "3     3\n",
      "4    84\n",
      "dtype: int64\n"
     ]
    }
   ],
   "source": [
    "import pandas as pd\n",
    "test_series_1 = pd.Series([\n",
    "    'Опыт работы 8 лет 3 месяца',\n",
    "    'Опыт работы 3 года 5 месяцев',\n",
    "    'Опыт работы 1 год 9 месяцев',\n",
    "    'Опыт работы 3 месяца',\n",
    "    'Опыт работы 6 лет'\n",
    "])\n",
    "\n",
    "test_series_2 = pd.Series([\n",
    "    'Опыт работы 5 лет',\n",
    "    'Опыт работы 5 месяцев',\n",
    "    'Опыт работы 1 год 1 месяц',\n",
    "    'Опыт работы 3 месяца',\n",
    "    'Опыт работы 7 лет'\n",
    "])\n",
    "\n",
    "\n",
    "\n",
    "\n",
    "import warnings\n",
    "\n",
    "warnings.filterwarnings('ignore')\n",
    "\n",
    "import pandas as pd\n",
    "\n",
    "\n",
    "def get_experience(arg:str):\n",
    "    \n",
    "    arg = arg.split()\n",
    "    if len(arg) == 6:\n",
    "        return int(arg[2])*12 + int(arg[4]) \n",
    "    elif len(arg[3]) >= 5:\n",
    "        return int(arg[2])\n",
    "    else:\n",
    "        return int(arg[2])*12\n",
    "\n",
    "\n",
    "print(test_series_2.apply(get_experience))"
   ]
  }
 ],
 "metadata": {
  "kernelspec": {
   "display_name": "Python 3.10.8 64-bit",
   "language": "python",
   "name": "python3"
  },
  "language_info": {
   "codemirror_mode": {
    "name": "ipython",
    "version": 3
   },
   "file_extension": ".py",
   "mimetype": "text/x-python",
   "name": "python",
   "nbconvert_exporter": "python",
   "pygments_lexer": "ipython3",
   "version": "3.10.8"
  },
  "orig_nbformat": 4,
  "vscode": {
   "interpreter": {
    "hash": "26de051ba29f2982a8de78e945f0abaf191376122a1563185a90213a26c5da77"
   }
  }
 },
 "nbformat": 4,
 "nbformat_minor": 2
}
