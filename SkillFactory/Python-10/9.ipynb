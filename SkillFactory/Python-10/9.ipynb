{
 "cells": [
  {
   "cell_type": "code",
   "execution_count": 9,
   "metadata": {},
   "outputs": [
    {
     "name": "stdout",
     "output_type": "stream",
     "text": [
      "math score       66.089\n",
      "reading score    69.169\n",
      "writing score    68.054\n",
      "dtype: float64\n"
     ]
    },
    {
     "name": "stderr",
     "output_type": "stream",
     "text": [
      "C:\\Users\\sasa\\AppData\\Local\\Temp\\ipykernel_7844\\499669456.py:23: FutureWarning: The default value of numeric_only in DataFrame.mean is deprecated. In a future version, it will default to False. In addition, specifying 'numeric_only=None' is deprecated. Select only valid columns or specify the value of numeric_only to silence this warning.\n",
      "  print(students.mean())\n"
     ]
    }
   ],
   "source": [
    "import numpy as np\n",
    "import pandas as pd\n",
    "\n",
    "students = pd.read_csv('students_performance.csv', sep=',')\n",
    "\n",
    "#print(students.shape)\n",
    "#print(students.info())\n",
    "'''lunch_standard = students[students['lunch'] == 'standard']['math score'].mean()\n",
    "lunch_free = students[students['lunch'] == 'free/reduced']['math score'].mean()\n",
    "\n",
    "if lunch_standard > lunch_free:\n",
    "    print(round(lunch_standard), 'standart')\n",
    "else:\n",
    "    print(round(lunch_free), 'free')'''\n",
    "    \n",
    "#result = len(students[students['parental level of education'] == \"bachelor's degree\"])/students.shape[0]*100\n",
    "\n",
    "#print(students.loc[3])\n",
    "'''result = abs(students[students['race/ethnicity'] == 'group A']['writing score'].median() - \\\n",
    "                    students[students['race/ethnicity'] == 'group C']['writing score'].mean())\n",
    "print(round(result))'''\n",
    "\n",
    "print(students.mean())"
   ]
  }
 ],
 "metadata": {
  "kernelspec": {
   "display_name": "Python 3.10.8 64-bit",
   "language": "python",
   "name": "python3"
  },
  "language_info": {
   "codemirror_mode": {
    "name": "ipython",
    "version": 3
   },
   "file_extension": ".py",
   "mimetype": "text/x-python",
   "name": "python",
   "nbconvert_exporter": "python",
   "pygments_lexer": "ipython3",
   "version": "3.10.8"
  },
  "orig_nbformat": 4,
  "vscode": {
   "interpreter": {
    "hash": "26de051ba29f2982a8de78e945f0abaf191376122a1563185a90213a26c5da77"
   }
  }
 },
 "nbformat": 4,
 "nbformat_minor": 2
}
