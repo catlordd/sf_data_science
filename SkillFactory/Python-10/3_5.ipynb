{
 "cells": [
  {
   "cell_type": "code",
   "execution_count": 30,
   "metadata": {},
   "outputs": [
    {
     "name": "stdout",
     "output_type": "stream",
     "text": [
      "79\n"
     ]
    }
   ],
   "source": [
    "import pandas as pd\n",
    "\n",
    "def create_companyDF(income, expenses, years):\n",
    "    \n",
    "    df = pd.DataFrame({'Income':income, 'Expenses':expenses}, index=years)\n",
    "    \n",
    "    return df\n",
    "    \n",
    "def get_profit(df:pd.DataFrame, year:int) -> int:\n",
    "    \n",
    "    if year not in df.index:\n",
    "        result = None\n",
    "    else:\n",
    "        result = df.loc[year,'Income'] - df.loc[year,'Expenses']\n",
    "    \n",
    "    return result\n",
    "    \n",
    "\n",
    "print(get_profit(year = 2019, df = create_companyDF([612, 516, 329, 158], [136,163,250,361], [2017,2018,2019,2020])))"
   ]
  }
 ],
 "metadata": {
  "kernelspec": {
   "display_name": "Python 3.10.8 64-bit",
   "language": "python",
   "name": "python3"
  },
  "language_info": {
   "codemirror_mode": {
    "name": "ipython",
    "version": 3
   },
   "file_extension": ".py",
   "mimetype": "text/x-python",
   "name": "python",
   "nbconvert_exporter": "python",
   "pygments_lexer": "ipython3",
   "version": "3.10.8"
  },
  "orig_nbformat": 4,
  "vscode": {
   "interpreter": {
    "hash": "26de051ba29f2982a8de78e945f0abaf191376122a1563185a90213a26c5da77"
   }
  }
 },
 "nbformat": 4,
 "nbformat_minor": 2
}
